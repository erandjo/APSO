{
 "cells": [
  {
   "cell_type": "markdown",
   "id": "9cbbe05e",
   "metadata": {},
   "source": [
    "In this document we inspect the Android 77 dataset, including plotting the histogram shown in the master thesis.\n",
    "\n",
    "To get the correct formatting of the histogram this cell might need to be run twice."
   ]
  },
  {
   "cell_type": "markdown",
   "id": "88c6b9fd",
   "metadata": {},
   "source": [
    "## Import Statements"
   ]
  },
  {
   "cell_type": "code",
   "execution_count": 1,
   "id": "481cc186",
   "metadata": {},
   "outputs": [],
   "source": [
    "import os\n",
    "import pandas as pd\n",
    "import numpy as np\n",
    "from collections import Counter\n",
    "import matplotlib.pyplot as plt"
   ]
  },
  {
   "cell_type": "markdown",
   "id": "2adefdc3",
   "metadata": {},
   "source": [
    "## Loading dataset"
   ]
  },
  {
   "cell_type": "code",
   "execution_count": 2,
   "id": "e63f1a29",
   "metadata": {},
   "outputs": [
    {
     "data": {
      "text/html": [
       "<div>\n",
       "<style scoped>\n",
       "    .dataframe tbody tr th:only-of-type {\n",
       "        vertical-align: middle;\n",
       "    }\n",
       "\n",
       "    .dataframe tbody tr th {\n",
       "        vertical-align: top;\n",
       "    }\n",
       "\n",
       "    .dataframe thead th {\n",
       "        text-align: right;\n",
       "    }\n",
       "</style>\n",
       "<table border=\"1\" class=\"dataframe\">\n",
       "  <thead>\n",
       "    <tr style=\"text-align: right;\">\n",
       "      <th></th>\n",
       "      <th>category</th>\n",
       "      <th>description</th>\n",
       "      <th>label</th>\n",
       "      <th>packageName</th>\n",
       "      <th>reqPermissions</th>\n",
       "      <th>playCategory</th>\n",
       "      <th>playAuthors</th>\n",
       "    </tr>\n",
       "  </thead>\n",
       "  <tbody>\n",
       "    <tr>\n",
       "      <th>0</th>\n",
       "      <td>none</td>\n",
       "      <td>none</td>\n",
       "      <td>Zalando</td>\n",
       "      <td>de.zalando.mobile</td>\n",
       "      <td>[{'first': 'android.permission.INTERNET', 'sec...</td>\n",
       "      <td>Shopping</td>\n",
       "      <td>Zalando SE</td>\n",
       "    </tr>\n",
       "    <tr>\n",
       "      <th>1</th>\n",
       "      <td>none</td>\n",
       "      <td>none</td>\n",
       "      <td>Drivstoffappen</td>\n",
       "      <td>com.raskebiler.drivstoff.appen</td>\n",
       "      <td>[{'first': 'android.permission.INTERNET', 'sec...</td>\n",
       "      <td>Auto &amp; Vehicles</td>\n",
       "      <td>Raskebiler AS</td>\n",
       "    </tr>\n",
       "    <tr>\n",
       "      <th>2</th>\n",
       "      <td>Music &amp; Audio</td>\n",
       "      <td>none</td>\n",
       "      <td>Shazam</td>\n",
       "      <td>com.shazam.android</td>\n",
       "      <td>[{'first': 'android.permission.RECORD_AUDIO', ...</td>\n",
       "      <td>Music &amp; Audio</td>\n",
       "      <td>Apple, Inc.</td>\n",
       "    </tr>\n",
       "  </tbody>\n",
       "</table>\n",
       "</div>"
      ],
      "text/plain": [
       "        category description           label                     packageName  \\\n",
       "0           none        none         Zalando               de.zalando.mobile   \n",
       "1           none        none  Drivstoffappen  com.raskebiler.drivstoff.appen   \n",
       "2  Music & Audio        none          Shazam              com.shazam.android   \n",
       "\n",
       "                                      reqPermissions     playCategory  \\\n",
       "0  [{'first': 'android.permission.INTERNET', 'sec...         Shopping   \n",
       "1  [{'first': 'android.permission.INTERNET', 'sec...  Auto & Vehicles   \n",
       "2  [{'first': 'android.permission.RECORD_AUDIO', ...    Music & Audio   \n",
       "\n",
       "     playAuthors  \n",
       "0     Zalando SE  \n",
       "1  Raskebiler AS  \n",
       "2    Apple, Inc.  "
      ]
     },
     "execution_count": 2,
     "metadata": {},
     "output_type": "execute_result"
    }
   ],
   "source": [
    "def load_dataset():\n",
    "    path = os.getcwd() + \"\\\\..\\\\..\\\\json-files\\\\Intermediate Files\\\\dataset_andapps77.json\"\n",
    "    return pd.read_json(path)\n",
    "\n",
    "raw = load_dataset()\n",
    "raw[0:3]"
   ]
  },
  {
   "cell_type": "markdown",
   "id": "205b668d",
   "metadata": {},
   "source": [
    "### Table three of the applications used in scenarios"
   ]
  },
  {
   "cell_type": "code",
   "execution_count": 3,
   "id": "52e636df",
   "metadata": {},
   "outputs": [
    {
     "data": {
      "text/html": [
       "<div>\n",
       "<style scoped>\n",
       "    .dataframe tbody tr th:only-of-type {\n",
       "        vertical-align: middle;\n",
       "    }\n",
       "\n",
       "    .dataframe tbody tr th {\n",
       "        vertical-align: top;\n",
       "    }\n",
       "\n",
       "    .dataframe thead th {\n",
       "        text-align: right;\n",
       "    }\n",
       "</style>\n",
       "<table border=\"1\" class=\"dataframe\">\n",
       "  <thead>\n",
       "    <tr style=\"text-align: right;\">\n",
       "      <th></th>\n",
       "      <th>category</th>\n",
       "      <th>description</th>\n",
       "      <th>label</th>\n",
       "      <th>packageName</th>\n",
       "      <th>reqPermissions</th>\n",
       "      <th>playCategory</th>\n",
       "      <th>playAuthors</th>\n",
       "    </tr>\n",
       "  </thead>\n",
       "  <tbody>\n",
       "    <tr>\n",
       "      <th>16</th>\n",
       "      <td>Productivity</td>\n",
       "      <td>none</td>\n",
       "      <td>Zoom</td>\n",
       "      <td>us.zoom.videomeetings</td>\n",
       "      <td>[{'first': 'com.google.android.c2dm.permission...</td>\n",
       "      <td>Business</td>\n",
       "      <td>zoom.us</td>\n",
       "    </tr>\n",
       "  </tbody>\n",
       "</table>\n",
       "</div>"
      ],
      "text/plain": [
       "        category description label            packageName  \\\n",
       "16  Productivity        none  Zoom  us.zoom.videomeetings   \n",
       "\n",
       "                                       reqPermissions playCategory playAuthors  \n",
       "16  [{'first': 'com.google.android.c2dm.permission...     Business     zoom.us  "
      ]
     },
     "execution_count": 3,
     "metadata": {},
     "output_type": "execute_result"
    }
   ],
   "source": [
    "raw[0:-1].loc[raw[0:-1]['label'] == 'Zoom']"
   ]
  },
  {
   "cell_type": "code",
   "execution_count": 4,
   "id": "6e97011c",
   "metadata": {},
   "outputs": [
    {
     "data": {
      "text/html": [
       "<div>\n",
       "<style scoped>\n",
       "    .dataframe tbody tr th:only-of-type {\n",
       "        vertical-align: middle;\n",
       "    }\n",
       "\n",
       "    .dataframe tbody tr th {\n",
       "        vertical-align: top;\n",
       "    }\n",
       "\n",
       "    .dataframe thead th {\n",
       "        text-align: right;\n",
       "    }\n",
       "</style>\n",
       "<table border=\"1\" class=\"dataframe\">\n",
       "  <thead>\n",
       "    <tr style=\"text-align: right;\">\n",
       "      <th></th>\n",
       "      <th>category</th>\n",
       "      <th>description</th>\n",
       "      <th>label</th>\n",
       "      <th>packageName</th>\n",
       "      <th>reqPermissions</th>\n",
       "      <th>playCategory</th>\n",
       "      <th>playAuthors</th>\n",
       "    </tr>\n",
       "  </thead>\n",
       "  <tbody>\n",
       "    <tr>\n",
       "      <th>66</th>\n",
       "      <td>Productivity</td>\n",
       "      <td>none</td>\n",
       "      <td>Authenticator</td>\n",
       "      <td>com.azure.authenticator</td>\n",
       "      <td>[{'first': 'android.permission.SYSTEM_ALERT_WI...</td>\n",
       "      <td>Business</td>\n",
       "      <td>Microsoft Corporation</td>\n",
       "    </tr>\n",
       "  </tbody>\n",
       "</table>\n",
       "</div>"
      ],
      "text/plain": [
       "        category description          label              packageName  \\\n",
       "66  Productivity        none  Authenticator  com.azure.authenticator   \n",
       "\n",
       "                                       reqPermissions playCategory  \\\n",
       "66  [{'first': 'android.permission.SYSTEM_ALERT_WI...     Business   \n",
       "\n",
       "              playAuthors  \n",
       "66  Microsoft Corporation  "
      ]
     },
     "execution_count": 4,
     "metadata": {},
     "output_type": "execute_result"
    }
   ],
   "source": [
    "raw[0:-1].loc[raw[0:-1]['label'] == 'Authenticator']"
   ]
  },
  {
   "cell_type": "code",
   "execution_count": 5,
   "id": "5ca50498",
   "metadata": {},
   "outputs": [
    {
     "data": {
      "text/html": [
       "<div>\n",
       "<style scoped>\n",
       "    .dataframe tbody tr th:only-of-type {\n",
       "        vertical-align: middle;\n",
       "    }\n",
       "\n",
       "    .dataframe tbody tr th {\n",
       "        vertical-align: top;\n",
       "    }\n",
       "\n",
       "    .dataframe thead th {\n",
       "        text-align: right;\n",
       "    }\n",
       "</style>\n",
       "<table border=\"1\" class=\"dataframe\">\n",
       "  <thead>\n",
       "    <tr style=\"text-align: right;\">\n",
       "      <th></th>\n",
       "      <th>category</th>\n",
       "      <th>description</th>\n",
       "      <th>label</th>\n",
       "      <th>packageName</th>\n",
       "      <th>reqPermissions</th>\n",
       "      <th>playCategory</th>\n",
       "      <th>playAuthors</th>\n",
       "    </tr>\n",
       "  </thead>\n",
       "  <tbody>\n",
       "    <tr>\n",
       "      <th>27</th>\n",
       "      <td>none</td>\n",
       "      <td>none</td>\n",
       "      <td>NRK TV</td>\n",
       "      <td>no.nrk.tv</td>\n",
       "      <td>[{'first': 'android.permission.INTERNET', 'sec...</td>\n",
       "      <td>Entertainment</td>\n",
       "      <td>NRK</td>\n",
       "    </tr>\n",
       "  </tbody>\n",
       "</table>\n",
       "</div>"
      ],
      "text/plain": [
       "   category description   label packageName  \\\n",
       "27     none        none  NRK TV   no.nrk.tv   \n",
       "\n",
       "                                       reqPermissions   playCategory  \\\n",
       "27  [{'first': 'android.permission.INTERNET', 'sec...  Entertainment   \n",
       "\n",
       "   playAuthors  \n",
       "27         NRK  "
      ]
     },
     "execution_count": 5,
     "metadata": {},
     "output_type": "execute_result"
    }
   ],
   "source": [
    "raw[0:-1].loc[raw[0:-1]['label'] == 'NRK TV']"
   ]
  },
  {
   "cell_type": "markdown",
   "id": "341304c2",
   "metadata": {},
   "source": [
    "### Table finished"
   ]
  },
  {
   "cell_type": "code",
   "execution_count": 6,
   "id": "7e15ea50",
   "metadata": {},
   "outputs": [
    {
     "name": "stdout",
     "output_type": "stream",
     "text": [
      "Counter({'Travel & Local': 11, 'Shopping': 8, 'Tools': 6, 'Food & Drink': 6, 'Entertainment': 6, 'Music & Audio': 4, 'Maps & Navigation': 4, 'Finance': 4, 'Lifestyle': 4, 'Auto & Vehicles': 3, 'Education': 3, 'Social': 3, 'Business': 3, 'Communication': 2, 'Medical': 2, 'Productivity': 2, 'Health & Fitness': 2, 'House & Home': 1, 'Event': 1, 'Video Players & Editors': 1, 'News & Magazines': 1})\n",
      "\n",
      "\n",
      "Counter({'Microsoft Corporation': 3, 'Ruter As': 2, 'Schibsted Norge': 2, 'Google LLC': 2, 'Zalando SE': 1, 'Raskebiler AS': 1, 'Apple, Inc.': 1, 'Fjordkraft AS': 1, 'Vipps AS': 1, 'Coop Norge': 1, 'WeHunt Nordic AB': 1, 'WhatsApp LLC': 1, \"McDonald's Apps\": 1, 'Gamma Play': 1, 'FINN.no': 1, 'Duolingo': 1, 'Discovery Digital': 1, 'JVSTUDIOS': 1, 'reddit Inc.': 1, 'zoom.us': 1, 'Telenor Norge': 1, 'Norsk Helsenett SF': 1, 'Instagram': 1, 'Pintrest': 1, 'DNB ASA': 1, 'Statens vegvesen / NPRA': 1, 'Apple': 1, 'NRK': 1, 'European Union': 1, 'Posten & Bring': 1, 'Tolletaten': 1, 'Pizzabakeren': 1, 'Wolt Enterprises Oy': 1, 'Tise AS': 1, 'TikTok Pte. Ltd.': 1, 'Klarna Bank AB (publ)': 1, 'NorgesGruppen Data AS': 1, 'Spotify AB': 1, 'Glority LLC': 1, 'Amazon Mobile LLC': 1, 'Tibber': 1, 'AtB': 1, 'Magic Voice Changer': 1, 'Lunar A/S': 1, 'Utenriksdepartementet': 1, 'H&M': 1, 'FaceBook': 1, 'Inter IKEA Systems B. V.': 1, 'Podimo': 1, 'Yandex Apps': 1, 'Stiftelsen Norsk Luftambulanse': 1, 'Foodora GmbH': 1, 'Ryde-Technology': 1, 'Samsung Electronics Co., Ltd.': 1, 'Booking.com Hotels & Vacation Rentals': 1, 'Norwegian Air Shuttle ASA': 1, 'Apcoa Parking Norway AS': 1, 'PodMe AB': 1, 'Ticketmaster International': 1, 'TV 2 AS': 1, 'Viaplay': 1, 'PatientSky': 1, 'Roborock': 1, 'TeaCapps': 1, 'Flyr AS': 1, 'Too Good To Go Aps': 1, 'Norsk Tipping': 1, 'Rema 1000 i Norge AS': 1, 'Kahoot!': 1, 'SAS AB': 1, 'Fortum Charge & Drive BV.': 1, 'Tjek A/S': 1})\n",
      "\n",
      "\n"
     ]
    }
   ],
   "source": [
    "def _count_info_column(name):\n",
    "    counter = Counter(raw[name])\n",
    "    print(counter)\n",
    "\n",
    "_count_info_column(\"playCategory\")\n",
    "print(\"\\n\")\n",
    "\n",
    "_count_info_column(\"playAuthors\")\n",
    "print(\"\\n\")"
   ]
  },
  {
   "cell_type": "markdown",
   "id": "2e6c392a",
   "metadata": {},
   "source": [
    "## Investigate permissions"
   ]
  },
  {
   "cell_type": "markdown",
   "id": "8181fb1f",
   "metadata": {},
   "source": [
    "Permissions are a list of dictionaries with the keys first and second, where first reference the permission, and second reference the protection level."
   ]
  },
  {
   "cell_type": "code",
   "execution_count": 7,
   "id": "34264ee2",
   "metadata": {},
   "outputs": [
    {
     "data": {
      "text/plain": [
       "0    [{'first': 'android.permission.INTERNET', 'sec...\n",
       "1    [{'first': 'android.permission.INTERNET', 'sec...\n",
       "Name: reqPermissions, dtype: object"
      ]
     },
     "execution_count": 7,
     "metadata": {},
     "output_type": "execute_result"
    }
   ],
   "source": [
    "raw[\"reqPermissions\"][0:2]"
   ]
  },
  {
   "cell_type": "code",
   "execution_count": 8,
   "id": "0d1927fb",
   "metadata": {},
   "outputs": [
    {
     "data": {
      "text/plain": [
       "{'first': 'android.permission.INTERNET', 'second': 'normal'}"
      ]
     },
     "execution_count": 8,
     "metadata": {},
     "output_type": "execute_result"
    }
   ],
   "source": [
    "raw[\"reqPermissions\"][0][0]"
   ]
  },
  {
   "cell_type": "markdown",
   "id": "009b7f18",
   "metadata": {},
   "source": [
    "### Making a dataset object that is easier to operate on"
   ]
  },
  {
   "cell_type": "code",
   "execution_count": 9,
   "id": "a98337b1",
   "metadata": {},
   "outputs": [],
   "source": [
    "class Dataset:\n",
    "    def __init__(self, df):\n",
    "        self.name = list(df[\"packageName\"])\n",
    "        self.labels = list(df[\"label\"])\n",
    "        self.category = list(df[\"category\"])\n",
    "        self.playCategory = list(df[\"playCategory\"])\n",
    "        self.playAuthors = list(df[\"playAuthors\"])\n",
    "        self.permissions = [[p['first'] for p in req] for req in df[\"reqPermissions\"]]\n",
    "        self.protections = [[p['second'] for p in req] for req in df[\"reqPermissions\"]]\n",
    "    \n",
    "    def __getitem__(self, i):\n",
    "        return {'name': self.name[i], \n",
    "                'label': self.labels[i],\n",
    "                'category': self.category[i], \n",
    "                'playCategory': self.playCategory[i],\n",
    "                'playAthors': self.playAuthors[i],\n",
    "                'permissions': self.permissions[i],\n",
    "                'protections': self.protections[i]}\n",
    "    \n",
    "    def __len__(self):\n",
    "        return len(self.name)"
   ]
  },
  {
   "cell_type": "code",
   "execution_count": 10,
   "id": "ab26b411",
   "metadata": {},
   "outputs": [
    {
     "data": {
      "text/plain": [
       "{'name': 'de.zalando.mobile',\n",
       " 'label': 'Zalando',\n",
       " 'category': 'none',\n",
       " 'playCategory': 'Shopping',\n",
       " 'playAthors': 'Zalando SE',\n",
       " 'permissions': ['android.permission.INTERNET',\n",
       "  'android.permission.WRITE_EXTERNAL_STORAGE',\n",
       "  'android.permission.CAMERA',\n",
       "  'android.permission.FOREGROUND_SERVICE',\n",
       "  'android.permission.DOWNLOAD_WITHOUT_NOTIFICATION',\n",
       "  'android.permission.ACCESS_WIFI_STATE',\n",
       "  'android.permission.ACCESS_NETWORK_STATE',\n",
       "  'android.permission.WAKE_LOCK',\n",
       "  'de.zalando.mobile.permission.A4S_SEND',\n",
       "  'android.permission.READ_EXTERNAL_STORAGE',\n",
       "  'de.zalando.mobile.permission.C2D_MESSAGE',\n",
       "  'com.google.android.c2dm.permission.RECEIVE',\n",
       "  'com.google.android.finsky.permission.BIND_GET_INSTALL_REFERRER_SERVICE',\n",
       "  'android.permission.RECEIVE_BOOT_COMPLETED'],\n",
       " 'protections': ['normal',\n",
       "  'dangerous',\n",
       "  'dangerous',\n",
       "  'normal',\n",
       "  'normal',\n",
       "  'normal',\n",
       "  'normal',\n",
       "  'normal',\n",
       "  'signature',\n",
       "  'dangerous',\n",
       "  'signature',\n",
       "  'normal',\n",
       "  'normal',\n",
       "  'normal']}"
      ]
     },
     "execution_count": 10,
     "metadata": {},
     "output_type": "execute_result"
    }
   ],
   "source": [
    "dataset = Dataset(raw)\n",
    "dataset[0]"
   ]
  },
  {
   "cell_type": "code",
   "execution_count": 11,
   "id": "553c208d",
   "metadata": {},
   "outputs": [
    {
     "name": "stdout",
     "output_type": "stream",
     "text": [
      "de.zalando.mobile.permission.A4S_SEND\n",
      "signature\n"
     ]
    }
   ],
   "source": [
    "print(dataset[0]['permissions'][8])\n",
    "print(dataset[0]['protections'][8])"
   ]
  },
  {
   "cell_type": "code",
   "execution_count": 12,
   "id": "45c666a1",
   "metadata": {
    "scrolled": true
   },
   "outputs": [
    {
     "data": {
      "text/plain": [
       "Counter({'none': 48,\n",
       "         'Music & Audio': 4,\n",
       "         'Productivity': 12,\n",
       "         'Maps & Navigation': 4,\n",
       "         'Social & Communication': 7,\n",
       "         'Movies & Video': 2})"
      ]
     },
     "execution_count": 12,
     "metadata": {},
     "output_type": "execute_result"
    }
   ],
   "source": [
    "# checking the distribution of application categories\n",
    "categories = [d['category'] for d in dataset]\n",
    "counter = Counter(categories)\n",
    "counter"
   ]
  },
  {
   "cell_type": "code",
   "execution_count": 13,
   "id": "c01ee538",
   "metadata": {},
   "outputs": [
    {
     "name": "stdout",
     "output_type": "stream",
     "text": [
      "[1, 5, 6, 6, 6, 6, 6, 7, 7, 7, 7, 8, 8, 8, 8, 8, 9, 9, 9, 9, 9, 10, 10, 10, 10, 10, 10, 10, 11, 11, 11, 11, 11, 11, 12, 12, 12, 12, 12, 13, 13, 13, 13, 13, 13, 13, 14, 14, 14, 15, 15, 16, 16, 16, 16, 18, 18, 18, 18, 19, 20, 20, 20, 20, 21, 21, 21, 22, 22, 23, 27, 27, 29, 31, 42, 42, 68]\n",
      "mean: 14.792207792207792\n",
      "median: 12.0\n"
     ]
    }
   ],
   "source": [
    "# checking the avg of requested android permissions\n",
    "permissions = [app['permissions'] for app in dataset]\n",
    "\n",
    "android_permissions = [\n",
    "    [permission for permission in lst \n",
    "     if permission.startswith('android.permission.')] \n",
    "    for lst in permissions]\n",
    "\n",
    "req_permissions = [len(lst) for lst in android_permissions]\n",
    "print(sorted(req_permissions))\n",
    "print('mean:', np.mean(req_permissions))\n",
    "print('median:', np.median(req_permissions))"
   ]
  },
  {
   "cell_type": "code",
   "execution_count": 18,
   "id": "f7f1d587",
   "metadata": {
    "scrolled": false
   },
   "outputs": [
    {
     "data": {
      "image/png": "[encoded data removed]",
      "text/plain": [
       "<Figure size 576x396 with 1 Axes>"
      ]
     },
     "metadata": {},
     "output_type": "display_data"
    }
   ],
   "source": [
    "# plotting histogram\n",
    "plt.hist(req_permissions, bins=15)\n",
    "plt.style.use('seaborn')\n",
    "plt.title('Histogram of Requested Android Permissions')\n",
    "plt.ylabel('applications')\n",
    "plt.xlabel('permissions')\n",
    "plt.savefig('histogram-bin-15')\n",
    "plt.show()"
   ]
  },
  {
   "cell_type": "markdown",
   "id": "2fd69405",
   "metadata": {},
   "source": [
    "#### Having permission groups could perhaps be good!"
   ]
  },
  {
   "cell_type": "markdown",
   "id": "a035baea",
   "metadata": {},
   "source": [
    "Now doing statistics on the number of permissions an app have!"
   ]
  },
  {
   "cell_type": "code",
   "execution_count": 15,
   "id": "69c3c905",
   "metadata": {},
   "outputs": [
    {
     "data": {
      "text/plain": [
       "['dangerous', 'dangerous', 'dangerous']"
      ]
     },
     "execution_count": 15,
     "metadata": {},
     "output_type": "execute_result"
    }
   ],
   "source": [
    "list(filter(lambda x: x == 'dangerous', dataset[0]['protections']))"
   ]
  },
  {
   "cell_type": "code",
   "execution_count": 16,
   "id": "141abbae",
   "metadata": {},
   "outputs": [
    {
     "data": {
      "image/png": "[encoded data removed]",
      "text/plain": [
       "<Figure size 576x396 with 1 Axes>"
      ]
     },
     "metadata": {},
     "output_type": "display_data"
    }
   ],
   "source": [
    "def _plot_permissions():\n",
    "    x = list(range(len(dataset)))\n",
    "    \n",
    "    y_all = [len(dataset[i]['permissions']) for i in range(len(dataset))]        \n",
    "    \n",
    "    y_danger = [\n",
    "        len(list(filter(lambda x: x == 'dangerous', dataset[i]['protections'])))\n",
    "        for i in range(len(dataset))] \n",
    "    \n",
    "    y_signature = [\n",
    "        len(list(filter(lambda x: x == 'signature', dataset[i]['protections'])))\n",
    "        for i in range(len(dataset))] \n",
    "    \n",
    "    y_normal = [\n",
    "        len(list(filter(lambda x: x == 'normal', dataset[i]['protections'])))\n",
    "        for i in range(len(dataset))] \n",
    "    \n",
    "    plt.scatter(x, y_danger, marker='.', color='crimson', label='dangerous')\n",
    "    plt.scatter(x, y_all, marker='.', color='skyblue', label='all')\n",
    "    plt.scatter(x, y_signature, marker='.', color='orange', label='signature')\n",
    "    plt.scatter(x, y_normal, marker='.', color='green', label='normal')\n",
    "        \n",
    "    plt.xlabel(\"Applications\")\n",
    "    plt.ylabel(\"Permissions\")\n",
    "    plt.title(\"Number of permissions per application\")\n",
    "    plt.legend()\n",
    "    plt.show() \n",
    "    \n",
    "_plot_permissions()"
   ]
  },
  {
   "cell_type": "code",
   "execution_count": 17,
   "id": "b16510da",
   "metadata": {},
   "outputs": [
    {
     "name": "stdout",
     "output_type": "stream",
     "text": [
      "[8, 47, 54]\n",
      "WhatsApp Communication\n",
      "Messenger Communication\n",
      "Yango Communication\n"
     ]
    }
   ],
   "source": [
    "outliers = [i for i in range(len(dataset)) if len(dataset[i]['permissions']) > 40]\n",
    "print(outliers)\n",
    "print(dataset[8][\"label\"], dataset[8][\"playCategory\"])\n",
    "print(dataset[47][\"label\"],dataset[8][\"playCategory\"])\n",
    "print(dataset[50][\"label\"], dataset[8][\"playCategory\"])"
   ]
  }
 ],
 "metadata": {
  "kernelspec": {
   "display_name": "Python 3 (ipykernel)",
   "language": "python",
   "name": "python3"
  },
  "language_info": {
   "codemirror_mode": {
    "name": "ipython",
    "version": 3
   },
   "file_extension": ".py",
   "mimetype": "text/x-python",
   "name": "python",
   "nbconvert_exporter": "python",
   "pygments_lexer": "ipython3",
   "version": "3.9.7"
  }
 },
 "nbformat": 4,
 "nbformat_minor": 5
}
