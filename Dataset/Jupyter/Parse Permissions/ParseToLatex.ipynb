{
 "cells": [
  {
   "cell_type": "markdown",
   "id": "4db91261",
   "metadata": {},
   "source": [
    "This android manifest is downloaded from the android source code at: https://cs.android.com/android/platform/superproject/+/master:frameworks/base/core/res/AndroidManifest.xml;l=3?q=AndroidManifest.xml&ss=android%2Fplatform%2Fsuperproject\n",
    "\n",
    "Downloaded 17/12/2021\n",
    "\n",
    "In this document we parse the runtime permissions given in the document, and print the content in a latex tabular format"
   ]
  },
  {
   "cell_type": "code",
   "execution_count": 1,
   "id": "267aae44",
   "metadata": {},
   "outputs": [],
   "source": [
    "import os"
   ]
  },
  {
   "cell_type": "code",
   "execution_count": 2,
   "id": "4c9f7dc7",
   "metadata": {},
   "outputs": [],
   "source": [
    "def load_manifest():\n",
    "    manifest = os.getcwd() + '\\\\AndroidManifest.xml'\n",
    "    return open(manifest, 'r', encoding='UTF-8')"
   ]
  },
  {
   "cell_type": "code",
   "execution_count": 3,
   "id": "ac1ba306",
   "metadata": {},
   "outputs": [],
   "source": [
    "class PermissionGroup:\n",
    "    def __init__(self):\n",
    "        self.name = None\n",
    "        self.icon = None\n",
    "        self.label = None\n",
    "        self.description = None\n",
    "        self.priority = None\n",
    "        self.comment = None"
   ]
  },
  {
   "cell_type": "code",
   "execution_count": 4,
   "id": "0ef79c2d",
   "metadata": {},
   "outputs": [],
   "source": [
    "class Permission:\n",
    "    def __init__(self):\n",
    "        self.name = None\n",
    "        self.permissionGroup = None \n",
    "        self.backgroundPermission = None\n",
    "        self.label = None \n",
    "        self.dscription = None \n",
    "        self.permissionFlags = None \n",
    "        self.protectionLevel = None\n",
    "        self.isPartOf = None\n",
    "        self.comment = None"
   ]
  },
  {
   "cell_type": "code",
   "execution_count": 5,
   "id": "1d6f08d5",
   "metadata": {},
   "outputs": [],
   "source": [
    "def get_runtime_segment(lines):\n",
    "    start = lines.index(\"<!--                          RUNTIME PERMISSIONS                           -->\")\n",
    "    end = lines.index(\"<!-- REMOVED PERMISSIONS                                                    -->\")\n",
    "    return lines[start:end]"
   ]
  },
  {
   "cell_type": "code",
   "execution_count": 6,
   "id": "94a3235c",
   "metadata": {},
   "outputs": [],
   "source": [
    "def next_element(comment=None):\n",
    "    i, l = next(segment_line)\n",
    "    if (l.startswith('<!-- ===')): return comment # special case\n",
    "    if (l.startswith(_is['start_comment'])): return parse_comment(l)\n",
    "    if (l.startswith(_is['start_permission/group'])): \n",
    "        if (l.startswith(_is['group'])): return parse_group(l, comment, PermissionGroup())\n",
    "        return parse_permission(l, comment, Permission())"
   ]
  },
  {
   "cell_type": "code",
   "execution_count": 7,
   "id": "1fe1ae6f",
   "metadata": {},
   "outputs": [],
   "source": [
    "# return a string which is a xml comment \n",
    "def parse_comment(l, comment=''):\n",
    "    if (l.startswith(_is['start_comment'])): l = l.lstrip('<!-- ')\n",
    "    comment += l\n",
    "    if (l.endswith(_is['end_comment'])): return comment.rstrip(' -->')\n",
    "    i, l = next(segment_line)\n",
    "    return parse_comment(l, comment + ' ')"
   ]
  },
  {
   "cell_type": "code",
   "execution_count": 8,
   "id": "0ec8a940",
   "metadata": {},
   "outputs": [],
   "source": [
    "# return tuple of group and last parsed comment\n",
    "def parse_group(l, comment, group):\n",
    "    # extraction\n",
    "    param = l[l.index(\":\")+1:l.index(\"=\")]\n",
    "    value = l[l.index(\"\\\"\")+1:l.rindex(\"\\\"\")]\n",
    "    \n",
    "    # assignment\n",
    "    if param == 'name': group.name = value\n",
    "    if param == 'icon': group.icon = value\n",
    "    if param == 'label': group.label = value\n",
    "    if param == 'description': group.description = value\n",
    "    if param == 'priority': group.priority = value\n",
    "    \n",
    "    if (l.endswith(_is['end_permission/group'])): \n",
    "        group.comment = comment\n",
    "        return group\n",
    "    \n",
    "    i, l = next(segment_line)\n",
    "    return parse_group(l, comment, group)"
   ]
  },
  {
   "cell_type": "code",
   "execution_count": 9,
   "id": "1c083d9d",
   "metadata": {},
   "outputs": [],
   "source": [
    "# return tuple of permission and last parsed comment\n",
    "def parse_permission(l, comment, permission):\n",
    "    # extraction\n",
    "    param = l[l.index(\":\")+1:l.index(\"=\")]\n",
    "    value = l[l.index(\"\\\"\")+1:l.rindex(\"\\\"\")]\n",
    "    \n",
    "    # assignment\n",
    "    if param == 'name': permission.name = value\n",
    "    if param == 'permissionGroup': permission.permission_group = value\n",
    "    if param == 'label': permission.label = value\n",
    "    if param == 'description': permission.description = value\n",
    "    if param == 'permissionFlags': permission.permissionFlags = value\n",
    "    if param == 'protectionLevel': permission.protectionLevel = value\n",
    "    if param == 'backgroundPermission': permission.backgroundPermission = value\n",
    "    \n",
    "    if (l.endswith(_is['end_permission/group'])): \n",
    "        permission.comment = comment\n",
    "        return permission\n",
    "    \n",
    "    i, l = next(segment_line)\n",
    "    return parse_permission(l, comment, permission)"
   ]
  },
  {
   "cell_type": "markdown",
   "id": "f5116680",
   "metadata": {},
   "source": [
    "#### Parsing the document"
   ]
  },
  {
   "cell_type": "code",
   "execution_count": 10,
   "id": "f1de25d6",
   "metadata": {},
   "outputs": [],
   "source": [
    "# targets for our xml parsing\n",
    "_is = {'start_comment': '<!--', \n",
    "       'end_comment': '-->', \n",
    "       'start_permission/group': \n",
    "       '<permission', \n",
    "       'end_permission/group': \"/>\", \n",
    "       'group':'<permission-group'}"
   ]
  },
  {
   "cell_type": "code",
   "execution_count": 11,
   "id": "e2fea2bb",
   "metadata": {},
   "outputs": [],
   "source": [
    "manifest = load_manifest()\n",
    "manifest_lines = [l.strip() for l in manifest]\n",
    "runetime_segment = get_runtime_segment(manifest_lines)\n",
    "segment_line = enumerate(runetime_segment)\n",
    "\n",
    "groups = []\n",
    "permissions = []\n",
    "comment = ''\n",
    "while(True):\n",
    "    try:\n",
    "        element = next_element(comment)\n",
    "        if isinstance(element, PermissionGroup): groups.append(element)\n",
    "        if isinstance(element, str): comment = element\n",
    "        if isinstance(element, Permission): \n",
    "            element.isPartOf = groups[-1]\n",
    "            permissions.append(element)\n",
    "    except StopIteration: break"
   ]
  },
  {
   "cell_type": "markdown",
   "id": "2e38c693",
   "metadata": {},
   "source": [
    "#### Writing group in the format of latex table content"
   ]
  },
  {
   "cell_type": "code",
   "execution_count": 12,
   "id": "eeb9271f",
   "metadata": {},
   "outputs": [
    {
     "name": "stdout",
     "output_type": "stream",
     "text": [
      "Groups: 13 | Permissions: 50\n"
     ]
    }
   ],
   "source": [
    "print('Groups:', len(groups), '|', 'Permissions:', len(permissions))"
   ]
  },
  {
   "cell_type": "code",
   "execution_count": 13,
   "id": "99cb7792",
   "metadata": {},
   "outputs": [
    {
     "name": "stdout",
     "output_type": "stream",
     "text": [
      "1 & READ\\_CONTACTS & dangerous & CONTACTS\\\\\n",
      "2 & WRITE\\_CONTACTS & dangerous & CONTACTS\\\\\n",
      "3 & READ\\_CALENDAR & dangerous & CALENDAR\\\\\n",
      "4 & WRITE\\_CALENDAR & dangerous & CALENDAR\\\\\n",
      "5 & SEND\\_SMS & dangerous & SMS\\\\\n",
      "6 & RECEIVE\\_SMS & dangerous & SMS\\\\\n",
      "7 & READ\\_SMS & dangerous & SMS\\\\\n",
      "8 & RECEIVE\\_WAP\\_PUSH & dangerous & SMS\\\\\n",
      "9 & RECEIVE\\_MMS & dangerous & SMS\\\\\n",
      "10 & READ\\_EXTERNAL\\_STORAGE & dangerous & STORAGE\\\\\n",
      "11 & WRITE\\_EXTERNAL\\_STORAGE & dangerous & STORAGE\\\\\n",
      "12 & ACCESS\\_MEDIA\\_LOCATION & dangerous & STORAGE\\\\\n",
      "13 & MANAGE\\_EXTERNAL\\_STORAGE & signature$|$appop$|$preinstalled & STORAGE\\\\\n",
      "14 & MANAGE\\_MEDIA & signature$|$appop$|$preinstalled & STORAGE\\\\\n",
      "15 & ACCESS\\_FINE\\_LOCATION & dangerous$|$instant & LOCATION\\\\\n",
      "16 & ACCESS\\_COARSE\\_LOCATION & dangerous$|$instant & LOCATION\\\\\n",
      "17 & ACCESS\\_BACKGROUND\\_LOCATION & dangerous$|$instant & LOCATION\\\\\n",
      "18 & READ\\_CALL\\_LOG & dangerous & CALL\\_LOG\\\\\n",
      "19 & WRITE\\_CALL\\_LOG & dangerous & CALL\\_LOG\\\\\n",
      "20 & PROCESS\\_OUTGOING\\_CALLS & dangerous & CALL\\_LOG\\\\\n",
      "21 & READ\\_PHONE\\_STATE & dangerous & PHONE\\\\\n",
      "22 & READ\\_BASIC\\_PHONE\\_STATE & normal & PHONE\\\\\n",
      "23 & READ\\_PHONE\\_NUMBERS & dangerous$|$instant & PHONE\\\\\n",
      "24 & CALL\\_PHONE & dangerous & PHONE\\\\\n",
      "25 & ADD\\_VOICEMAIL & dangerous & PHONE\\\\\n",
      "26 & USE\\_SIP & dangerous & PHONE\\\\\n",
      "27 & ANSWER\\_PHONE\\_CALLS & dangerous$|$runtime & PHONE\\\\\n",
      "28 & MANAGE\\_OWN\\_CALLS & normal & PHONE\\\\\n",
      "29 & CALL\\_COMPANION\\_APP & normal & PHONE\\\\\n",
      "30 & ACCEPT\\_HANDOVER & dangerous & PHONE\\\\\n",
      "31 & RECORD\\_AUDIO & dangerous$|$instant & MICROPHONE\\\\\n",
      "32 & ACTIVITY\\_RECOGNITION & dangerous$|$instant & ACTIVITY\\_RECOGNITION\\\\\n",
      "33 & CAMERA & dangerous$|$instant & CAMERA\\\\\n",
      "34 & HIGH\\_SAMPLING\\_RATE\\_SENSORS & normal & SENSORS\\\\\n",
      "35 & BODY\\_SENSORS & dangerous & SENSORS\\\\\n",
      "36 & USE\\_FINGERPRINT & normal & SENSORS\\\\\n",
      "37 & USE\\_BIOMETRIC & normal & SENSORS\\\\\n"
     ]
    }
   ],
   "source": [
    "i = 0\n",
    "for p in permissions:\n",
    "    #keep suffix after .\n",
    "    name = p.name[p.name.rindex(\".\")+1:]\n",
    "    isPartOf = p.isPartOf.name[p.isPartOf.name.rindex(\".\")+1:]\n",
    "    backgroundPermission = p.backgroundPermission[p.backgroundPermission.rindex(\".\")+1:] if p.backgroundPermission else None \n",
    "    #write\n",
    "    #protectionLevels = p.protectionLevel.split('|') # only display the first\n",
    "    if '@hide' in p.comment: continue\n",
    "    i += 1 # for enumeration of the permissions\n",
    "    print('{} & {} & {} & {}\\\\\\\\'.format(i, name.replace('_', '\\\\_'), p.protectionLevel.replace('|', '$|$'), isPartOf.replace('_', '\\\\_')))"
   ]
  }
 ],
 "metadata": {
  "kernelspec": {
   "display_name": "Python 3 (ipykernel)",
   "language": "python",
   "name": "python3"
  },
  "language_info": {
   "codemirror_mode": {
    "name": "ipython",
    "version": 3
   },
   "file_extension": ".py",
   "mimetype": "text/x-python",
   "name": "python",
   "nbconvert_exporter": "python",
   "pygments_lexer": "ipython3",
   "version": "3.9.7"
  }
 },
 "nbformat": 4,
 "nbformat_minor": 5
}
