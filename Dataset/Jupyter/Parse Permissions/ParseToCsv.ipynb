{
 "cells": [
  {
   "cell_type": "markdown",
   "id": "1d86d4dd",
   "metadata": {},
   "source": [
    "The android manifest is downloaded from the android source code at: https://cs.android.com/android/platform/superproject/+/master:frameworks/base/core/res/AndroidManifest.xml;l=3?q=AndroidManifest.xml&ss=android%2Fplatform%2Fsuperproject\n",
    "\n",
    "Downloaded 17/12/2021\n",
    "\n",
    "In this document we parse the runtime permissions given in the document, and create two csv files, one concerning permissions and one concerning permission groups.\n",
    "\n",
    "Replace PLACEHOLDER in the paths."
   ]
  },
  {
   "cell_type": "markdown",
   "id": "34e8b69e",
   "metadata": {},
   "source": [
    "## Import statements"
   ]
  },
  {
   "cell_type": "code",
   "execution_count": 1,
   "id": "cf8f471c",
   "metadata": {},
   "outputs": [],
   "source": [
    "import os\n",
    "import csv"
   ]
  },
  {
   "cell_type": "code",
   "execution_count": 2,
   "id": "4d9cd08f",
   "metadata": {},
   "outputs": [],
   "source": [
    "def load_manifest():\n",
    "    manifest = os.getcwd() + '\\\\AndroidManifest.xml'\n",
    "    return open(manifest, 'r', encoding='UTF-8')"
   ]
  },
  {
   "cell_type": "markdown",
   "id": "791bece3",
   "metadata": {},
   "source": [
    "## Data classes"
   ]
  },
  {
   "cell_type": "code",
   "execution_count": 3,
   "id": "79892195",
   "metadata": {},
   "outputs": [],
   "source": [
    "class PermissionGroup:\n",
    "    def __init__(self):\n",
    "        self.name = None\n",
    "        self.icon = None\n",
    "        self.label = None\n",
    "        self.description = None\n",
    "        self.priority = None\n",
    "        self.comment = None"
   ]
  },
  {
   "cell_type": "code",
   "execution_count": 4,
   "id": "6322bac2",
   "metadata": {},
   "outputs": [],
   "source": [
    "class Permission:\n",
    "    def __init__(self):\n",
    "        self.name = None\n",
    "        self.permissionGroup = None \n",
    "        self.backgroundPermission = None\n",
    "        self.label = None \n",
    "        self.dscription = None \n",
    "        self.permissionFlags = None \n",
    "        self.protectionLevel = None\n",
    "        self.isPartOf = None\n",
    "        self.comment = None"
   ]
  },
  {
   "cell_type": "markdown",
   "id": "ac346cb3",
   "metadata": {},
   "source": [
    "## Methods for parsing"
   ]
  },
  {
   "cell_type": "code",
   "execution_count": 5,
   "id": "9615c926",
   "metadata": {},
   "outputs": [],
   "source": [
    "def next_element(comment=None):\n",
    "    i, l = next(segment_line)\n",
    "    if (l.startswith('<!-- ===')): return comment # special case\n",
    "    if (l.startswith(_is['start_comment'])): return parse_comment(l)\n",
    "    if (l.startswith(_is['start_permission/group'])): \n",
    "        if (l.startswith(_is['group'])): return parse_group(l, comment, PermissionGroup())\n",
    "        return parse_permission(l, comment, Permission())"
   ]
  },
  {
   "cell_type": "code",
   "execution_count": 6,
   "id": "1c69d524",
   "metadata": {},
   "outputs": [],
   "source": [
    "# return a string which is a xml comment \n",
    "def parse_comment(l, comment=''):\n",
    "    if (l.startswith(_is['start_comment'])): l = l.lstrip('<!-- ')\n",
    "    comment += l\n",
    "    if (l.endswith(_is['end_comment'])): return comment.rstrip(' -->')\n",
    "    i, l = next(segment_line)\n",
    "    return parse_comment(l, comment + ' ')"
   ]
  },
  {
   "cell_type": "code",
   "execution_count": 7,
   "id": "ffe3029b",
   "metadata": {},
   "outputs": [],
   "source": [
    "# return tuple of group and last parsed comment\n",
    "def parse_group(l, comment, group):\n",
    "    # extraction\n",
    "    param = l[l.index(\":\")+1:l.index(\"=\")]\n",
    "    value = l[l.index(\"\\\"\")+1:l.rindex(\"\\\"\")]\n",
    "    \n",
    "    # assignment\n",
    "    if param == 'name': group.name = value\n",
    "    if param == 'icon': group.icon = value\n",
    "    if param == 'label': group.label = value\n",
    "    if param == 'description': group.description = value\n",
    "    if param == 'priority': group.priority = value\n",
    "    \n",
    "    if (l.endswith(_is['end_permission/group'])): \n",
    "        group.comment = comment\n",
    "        return group\n",
    "    \n",
    "    i, l = next(segment_line)\n",
    "    return parse_group(l, comment, group)"
   ]
  },
  {
   "cell_type": "code",
   "execution_count": 8,
   "id": "62129121",
   "metadata": {},
   "outputs": [],
   "source": [
    "# return tuple of permission and last parsed comment\n",
    "def parse_permission(l, comment, permission):\n",
    "    # extraction\n",
    "    param = l[l.index(\":\")+1:l.index(\"=\")]\n",
    "    value = l[l.index(\"\\\"\")+1:l.rindex(\"\\\"\")]\n",
    "    \n",
    "    # assignment\n",
    "    if param == 'name': permission.name = value\n",
    "    if param == 'permissionGroup': permission.permission_group = value\n",
    "    if param == 'label': permission.label = value\n",
    "    if param == 'description': permission.description = value\n",
    "    if param == 'permissionFlags': permission.permissionFlags = value\n",
    "    if param == 'protectionLevel': permission.protectionLevel = value\n",
    "    if param == 'backgroundPermission': permission.backgroundPermission = value\n",
    "    \n",
    "    if (l.endswith(_is['end_permission/group'])): \n",
    "        permission.comment = comment\n",
    "        return permission\n",
    "    \n",
    "    i, l = next(segment_line)\n",
    "    return parse_permission(l, comment, permission)"
   ]
  },
  {
   "cell_type": "markdown",
   "id": "c3526db4",
   "metadata": {},
   "source": [
    "## Get segment for parsing"
   ]
  },
  {
   "cell_type": "code",
   "execution_count": 9,
   "id": "8e9ad425",
   "metadata": {},
   "outputs": [],
   "source": [
    "def get_runtime_segment(lines):\n",
    "    start = lines.index(\"<!--                          RUNTIME PERMISSIONS                           -->\")\n",
    "    end = lines.index(\"<!-- REMOVED PERMISSIONS                                                    -->\")\n",
    "    return lines[start:end]"
   ]
  },
  {
   "cell_type": "markdown",
   "id": "6c810d88",
   "metadata": {},
   "source": [
    "## Script"
   ]
  },
  {
   "cell_type": "code",
   "execution_count": 10,
   "id": "1b5ea3b0",
   "metadata": {},
   "outputs": [],
   "source": [
    "# targets for our xml parsing\n",
    "_is = {'start_comment': '<!--', \n",
    "       'end_comment': '-->', \n",
    "       'start_permission/group': \n",
    "       '<permission', \n",
    "       'end_permission/group': \"/>\", \n",
    "       'group':'<permission-group'}"
   ]
  },
  {
   "cell_type": "code",
   "execution_count": 11,
   "id": "f5de3227",
   "metadata": {},
   "outputs": [],
   "source": [
    "manifest = load_manifest()\n",
    "manifest_lines = [l.strip() for l in manifest]\n",
    "runetime_segment = get_runtime_segment(manifest_lines)\n",
    "segment_line = enumerate(runetime_segment)\n",
    "\n",
    "groups = []\n",
    "permissions = []\n",
    "comment = ''\n",
    "while(True):\n",
    "    try:\n",
    "        element = next_element(comment)\n",
    "        if isinstance(element, PermissionGroup): groups.append(element)\n",
    "        if isinstance(element, str): comment = element\n",
    "        if isinstance(element, Permission): \n",
    "            element.isPartOf = groups[-1]\n",
    "            permissions.append(element)\n",
    "    except StopIteration: break"
   ]
  },
  {
   "cell_type": "markdown",
   "id": "1f70c8f2",
   "metadata": {},
   "source": [
    "## Converting dataobjects to csv"
   ]
  },
  {
   "cell_type": "code",
   "execution_count": 12,
   "id": "147b3b74",
   "metadata": {},
   "outputs": [],
   "source": [
    "gpath = os.path.abspath(\"C:\\\\Users\\\\PLACEHOLDER\\\\Desktop\\\\androidpermissiongroups.csv\")\n",
    "ppath = os.path.abspath(\"C:\\\\Users\\\\PLACEHOLDER\\\\Desktop\\\\androidpermissions.csv\")\n",
    "\n",
    "def write_groups():\n",
    "    header = ['name', 'priority', 'comment']\n",
    "    with open(gpath, 'w', encoding='UTF8', newline='') as csv_file:\n",
    "        writer = csv.writer(csv_file)\n",
    "        writer.writerow(header)\n",
    "        for g in groups:\n",
    "            # cleaning the data/ preparing for ottr.\n",
    "            name = g.name[g.name.rindex('.')+1:].lower()\n",
    "            #write\n",
    "            writer.writerow([name, g.priority, g.comment])\n",
    "        \n",
    "def write_permissions():\n",
    "    header = ['name', 'permissionFlags', 'protectionLevel', 'backgroundPermission', 'isPartOf', 'comment']\n",
    "    with open(ppath, 'w', encoding='UTF8', newline='') as csv_file:\n",
    "        writer = csv.writer(csv_file)\n",
    "        writer.writerow(header)\n",
    "        for p in permissions:\n",
    "            #removing prefixes\n",
    "            name = p.name[p.name.rindex('.')+1:]\n",
    "            isPartOf = p.isPartOf.name[p.isPartOf.name.rindex('.')+1:]\n",
    "            backgroundPermission = p.backgroundPermission[p.backgroundPermission.rindex('.')+1:] if p.backgroundPermission else None \n",
    "            #write\n",
    "            writer.writerow([name, p.permissionFlags, p.protectionLevel, backgroundPermission, isPartOf, p.comment])\n"
   ]
  },
  {
   "cell_type": "code",
   "execution_count": 13,
   "id": "bf4a4526",
   "metadata": {},
   "outputs": [],
   "source": [
    "write_groups()\n",
    "write_permissions()"
   ]
  }
 ],
 "metadata": {
  "kernelspec": {
   "display_name": "Python 3 (ipykernel)",
   "language": "python",
   "name": "python3"
  },
  "language_info": {
   "codemirror_mode": {
    "name": "ipython",
    "version": 3
   },
   "file_extension": ".py",
   "mimetype": "text/x-python",
   "name": "python",
   "nbconvert_exporter": "python",
   "pygments_lexer": "ipython3",
   "version": "3.9.7"
  }
 },
 "nbformat": 4,
 "nbformat_minor": 5
}
